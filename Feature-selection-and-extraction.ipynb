{
 "cells": [
  {
   "cell_type": "code",
   "execution_count": 1,
   "metadata": {},
   "outputs": [],
   "source": [
    "from sklearn.datasets import fetch_openml\n",
    "from sklearn.preprocessing import MinMaxScaler\n",
    "from sklearn.preprocessing import StandardScaler\n",
    "from sklearn.model_selection import train_test_split\n",
    "from sklearn.linear_model import LogisticRegression\n",
    "from sklearn.neighbors import KNeighborsClassifier\n",
    "from sklearn.metrics import accuracy_score\n",
    "\n",
    "from sklearn.feature_selection import RFE\n",
    "from sklearn.feature_selection import SelectKBest\n",
    "from sklearn.feature_selection import chi2\n",
    "from sklearn.decomposition import PCA\n",
    "\n",
    "import pandas as pd\n",
    "import seaborn as sn\n",
    "\n",
    "import matplotlib.pyplot as plt\n",
    "import numpy as np\n",
    "\n",
    "from imgaug import augmenters as iaa"
   ]
  },
  {
   "cell_type": "markdown",
   "metadata": {},
   "source": [
    "# 1. Dlaczego dokonujemy selekcji atrybutów?\n",
    "### Przekleństwo wymiarowości – nadmiernego dopasowania (overfitting)\n",
    "    Jeśli będziemy mieć więcej danych w kolumnach niż wierszy, będziemy mogli idealnie dopasować nasze dane testowe, ale nie przełożymy tego dopasowania na nowe próbki. W ten sposób nie nauczymy się absolutnie niczego.\n",
    "    \n",
    "### Brzytwa Ockhama\n",
    "    Chcemy, by nasze modele były proste i możliwe do wytłumaczenia. Tracimy możliwość wytłumaczenia czegoś w prosty sposób, gdy mamy za dużo danych.\n",
    "    \n",
    "### Śmieci na wejściu – śmieci na wyjściu\n",
    "    W większości przypadków będziemy mieć wiele atrybutów, które nie mają znaczenia. Na przykład zmienne Name lub ID. Niska jakość danych wejściowych spowoduje, że dane wyjściowe też będą niskiej jakości."
   ]
  },
  {
   "cell_type": "markdown",
   "metadata": {},
   "source": [
    "### Wagi cech na podstawie logistic regression"
   ]
  },
  {
   "cell_type": "code",
   "execution_count": 2,
   "metadata": {},
   "outputs": [],
   "source": [
    "wdbc = fetch_openml(\"wdbc\", data_home=\"./wdbc\", cache=True)"
   ]
  },
  {
   "cell_type": "markdown",
   "metadata": {},
   "source": [
    "Aby poprawnie obliczyć wagi potrzebujemy danych w postaci znormalizowanej:"
   ]
  },
  {
   "cell_type": "code",
   "execution_count": 3,
   "metadata": {},
   "outputs": [],
   "source": [
    "scaler = StandardScaler()\n",
    "scaled_data = scaler.fit_transform(wdbc.data)\n",
    "train_x, test_x, train_y, test_y = train_test_split(scaled_data, wdbc.target, test_size = 0.2)\n",
    "scaler.fit(train_x)\n",
    "train_x = MinMaxScaler().fit_transform(train_x)\n",
    "test_x = MinMaxScaler().fit_transform(test_x)"
   ]
  },
  {
   "cell_type": "markdown",
   "metadata": {},
   "source": [
    "Wagi cech obliczamy używając regresji logicznej:"
   ]
  },
  {
   "cell_type": "code",
   "execution_count": 4,
   "metadata": {},
   "outputs": [
    {
     "data": {
      "text/plain": [
       "<BarContainer object of 30 artists>"
      ]
     },
     "execution_count": 4,
     "metadata": {},
     "output_type": "execute_result"
    },
    {
     "data": {
      "image/png": "[encoded data removed]",
      "text/plain": [
       "<Figure size 432x288 with 1 Axes>"
      ]
     },
     "metadata": {
      "needs_background": "light"
     },
     "output_type": "display_data"
    }
   ],
   "source": [
    "classifier = LogisticRegression(random_state = 0, C=100)\n",
    "classifier.fit(train_x, train_y)\n",
    "coef_y = np.abs(classifier.coef_[0])\n",
    "coef_x = np.arange(len(coef_y))\n",
    "plt.bar(coef_x,coef_y)"
   ]
  },
  {
   "cell_type": "markdown",
   "metadata": {},
   "source": [
    "Na powyższym wykresie możemy zaobserwować, że spora część cech jest właściwie pomijalna."
   ]
  },
  {
   "cell_type": "markdown",
   "metadata": {},
   "source": [
    "# 2. Metody selekcji cech\n",
    "### Chi-kwadrat\n",
    "Jest metodą opartą na filtrach, w której obliczamy metrykę chi-kwadrat między wartością docelową a zmienną numeryczną i wybieramy tylko zmienną o maksymalnych wartościach chi-kwadrat.\n",
    "\n",
    "Aby obliczć wartość Chi-kwadrat najpierw przyjmujemy wartość, której byśmy się spodziewali w każdym segmencie, gdyby faktycznie nie istniała zależność między dwiema kategoriami zmiennych. To proste. Mnożymy sumę wierszy i sumę kolumn dla każdej komórki i dzielimy ją przez liczbę całkowitą."
   ]
  },
  {
   "cell_type": "code",
   "execution_count": 5,
   "metadata": {},
   "outputs": [],
   "source": [
    "def chi_selector(X, y, num_feats):\n",
    "    X = df = pd.DataFrame(data=X)\n",
    "    chi_selector = SelectKBest(chi2, k=num_feats)\n",
    "    chi_selector.fit(X, y)\n",
    "    chi_support = chi_selector.get_support().tolist()\n",
    "    chi_feature = X.loc[:,chi_support].columns.tolist()\n",
    "    return chi_feature\n"
   ]
  },
  {
   "cell_type": "markdown",
   "metadata": {},
   "source": [
    "### Rekurencyjna eliminacja cech\n",
    "Rekurencyjnej eliminacji cech (RFE) polega na selekcji poprzez rekurencyjne uwzględnianie coraz mniejszych zestawów atrybutów. Najpierw estymator jest szkolony na początkowym zestawie atrybutów, a znaczenie każdego z nich uzyskiwane jest albo przez atrybut coef_ lub poprzez atrybut feature_importance_. Następnie, najmniej ważne atrybuty są usuwane z bieżącego zestawu. Tę procedurę powtarza się rekurencyjnie, aż w końcu zostanie osiągnięta potrzebna nam ilość atrybutów do wyboru."
   ]
  },
  {
   "cell_type": "code",
   "execution_count": 6,
   "metadata": {},
   "outputs": [],
   "source": [
    "def rfe(X, y, num_feats): \n",
    "    df = pd.DataFrame(data=X)\n",
    "    rfe_selector = RFE(estimator=LogisticRegression(), n_features_to_select=num_feats, step=10, verbose=5)\n",
    "    rfe_selector.fit(X_norm, y)\n",
    "    rfe_support = rfe_selector.get_support()\n",
    "    rfe_feature = X.loc[:,rfe_support].columns.tolist()\n",
    "    return rfe_feature"
   ]
  },
  {
   "cell_type": "markdown",
   "metadata": {},
   "source": [
    "Aby sprawdzić jak wybór cech wpływa na dokładność wyników wykorzystamy algorytm k najbliższych sąsiadów"
   ]
  },
  {
   "cell_type": "code",
   "execution_count": 7,
   "metadata": {},
   "outputs": [],
   "source": [
    "def knn_feats(neighbors, columns):\n",
    "    columns = np.array([1,2,3])\n",
    "    knn = KNeighborsClassifier(n_neighbors = neighbors)\n",
    "    knn.fit(train_x[:, columns], train_y)\n",
    "    pred_y = knn.predict(test_x[:, columns])\n",
    "    print(\"Prediction accuracy with k =\", neighbors, \"and m =\", columns, \":\", accuracy_score(test_y, pred_y))\n"
   ]
  },
  {
   "cell_type": "code",
   "execution_count": 8,
   "metadata": {},
   "outputs": [
    {
     "name": "stdout",
     "output_type": "stream",
     "text": [
      "Prediction accuracy with k = 3 and m = [1 2 3] : 0.8947368421052632\n",
      "[ 6  7 27]\n"
     ]
    }
   ],
   "source": [
    "m = 3 # liczba cech\n",
    "k = 3 # liczba sąsiadów\n",
    "feats = np.array(chi_selector(train_x, train_y, m))\n",
    "knn_feats(k, feats)\n",
    "print(feats)\n"
   ]
  },
  {
   "cell_type": "raw",
   "metadata": {},
   "source": [
    "Zmodyfikuj powyższy kod i uzupełnij tabelę dokładności w zależności od m i k:\n",
    "\n",
    "\n",
    "-----------------------------------------------------------------\n",
    "|        |    Cechy wybrane losowo  ||Cechy wybrane chi-selector|\n",
    "-----------------------------------------------------------------\n",
    "|        | k = 1  | k = 3  | k = 5  || k = 1  | k = 3  | k = 5  |\n",
    "-----------------------------------------------------------------\n",
    "| m = 1  |        |        |        ||        |        |        |\n",
    "-----------------------------------------------------------------\n",
    "| m = 3  |        |        |        ||        |        |        |\n",
    "-----------------------------------------------------------------\n",
    "| m = 5  |        |        |        ||        |        |        |\n",
    "-----------------------------------------------------------------\n",
    "| m = 30 |        |        |        ||        |        |        |\n",
    "-----------------------------------------------------------------"
   ]
  },
  {
   "cell_type": "markdown",
   "metadata": {},
   "source": [
    "# 3. Kowariancja"
   ]
  },
  {
   "cell_type": "markdown",
   "metadata": {},
   "source": [
    "Kowariancja stanowi miarę siły korelacji między dwiema  lub większa ilością zmiennych. Element macierzy kowariancji Cij jest kowariancją xi i xj. Element Cii jest wariantem Xi.\n",
    "\n",
    "     Jeśli COV(xi, xj) = 0, to zmienne są nieskorelowane\n",
    "     Jeśli COV(xi, xj) > 0, to zmienne są dodatnio skorelowane\n",
    "     Jeśli COV(xi, xj) < 0, to zmienne są ujemnie skorelowane"
   ]
  },
  {
   "cell_type": "code",
   "execution_count": 9,
   "metadata": {},
   "outputs": [
    {
     "name": "stdout",
     "output_type": "stream",
     "text": [
      "Wymiar macierzy: (3, 3)\n",
      "Macierz kowariancji x:\n",
      " [[4.33333333 2.83333333 2.        ]\n",
      " [2.83333333 2.33333333 1.5       ]\n",
      " [2.         1.5        1.        ]]\n"
     ]
    }
   ],
   "source": [
    "import numpy as np \n",
    "  \n",
    "x = np.array([[0, 3, 4], [1, 2, 4], [3, 4, 5]]) \n",
    "\n",
    "print(\"Wymiar macierzy:\", np.shape(x)) \n",
    "print(\"Macierz kowariancji x:\\n\", np.cov(x)) "
   ]
  },
  {
   "cell_type": "code",
   "execution_count": 10,
   "metadata": {},
   "outputs": [
    {
     "name": "stdout",
     "output_type": "stream",
     "text": [
      "[[1.23 2.56]\n",
      " [2.12 2.89]\n",
      " [3.34 3.76]\n",
      " [4.5  3.95]]\n",
      "Wymiar macierzy x i y: (4, 2)\n",
      "Wymiar macierzy kowariancji: (4, 4)\n",
      "[[ 0.88445  0.51205  0.2793  -0.36575]\n",
      " [ 0.51205  0.29645  0.1617  -0.21175]\n",
      " [ 0.2793   0.1617   0.0882  -0.1155 ]\n",
      " [-0.36575 -0.21175 -0.1155   0.15125]]\n"
     ]
    }
   ],
   "source": [
    "x = [1.23, 2.12, 3.34, 4.5] \n",
    "y = [2.56, 2.89, 3.76, 3.95] \n",
    "  \n",
    "# find out covariance with respect rows \n",
    "cov_mat = np.stack((x, y), axis = 1)\n",
    "print(cov_mat)\n",
    "  \n",
    "print(\"Wymiar macierzy x i y:\", np.shape(cov_mat)) \n",
    "np_cov_mat = np.cov(cov_mat)\n",
    "print(\"Wymiar macierzy kowariancji:\", np.shape(np_cov_mat)) \n",
    "print(np_cov_mat) "
   ]
  },
  {
   "cell_type": "markdown",
   "metadata": {},
   "source": [
    "Heatmap, czyli graficzna reprezentacja macierzy kowariancji:"
   ]
  },
  {
   "cell_type": "code",
   "execution_count": 11,
   "metadata": {},
   "outputs": [
    {
     "data": {
      "text/plain": [
       "<matplotlib.axes._subplots.AxesSubplot at 0x1e3322dc040>"
      ]
     },
     "execution_count": 11,
     "metadata": {},
     "output_type": "execute_result"
    },
    {
     "data": {
      "image/png": "[encoded data removed]",
      "text/plain": [
       "<Figure size 432x288 with 2 Axes>"
      ]
     },
     "metadata": {
      "needs_background": "light"
     },
     "output_type": "display_data"
    }
   ],
   "source": [
    "import seaborn as sn\n",
    "\n",
    "sn.heatmap(np_cov_mat, annot=True, fmt='.2g')"
   ]
  },
  {
   "cell_type": "markdown",
   "metadata": {},
   "source": [
    "# 4. Analiza głównych składowych - PCA"
   ]
  },
  {
   "cell_type": "markdown",
   "metadata": {},
   "source": [
    "Zbiór danych składający się z N obserwacji, z których każda obejmuje K zmiennych, można interpretować jako chmurę N punktów w przestrzeni K-wymiarowej. Celem PCA jest taki obrót układu współrzędnych, aby maksymalizować w pierwszej kolejności wariancję pierwszej współrzędnej, następnie wariancję drugiej współrzędnej itd.. "
   ]
  },
  {
   "cell_type": "markdown",
   "metadata": {},
   "source": [
    "PCA może być oparte albo na macierzy korelacji, albo macierzy kowariancji utworzonej ze zbioru wejściowego. Algorytm w obydwu wersjach jest poza tym identyczny, jednak różne są uzyskane wyniki. W przypadku użycia macierzy kowariancji, zmienne w zbiorze wejściowym o największej wariancji mają największy wpływ na wynik, co może być wskazane, jeśli zmienne reprezentują porównywalne wielkości, np. procentowe zmiany kursów różnych akcji. Użycie macierzy korelacji natomiast odpowiada wstępnej normalizacji zbioru wejściowego tak, aby każda zmienna miała na wejściu identyczną wariancję, co może być wskazane, jeśli wartości zmiennych nie są porównywalne. "
   ]
  },
  {
   "cell_type": "markdown",
   "metadata": {},
   "source": [
    "Przykładowe dane:"
   ]
  },
  {
   "cell_type": "code",
   "execution_count": 12,
   "metadata": {},
   "outputs": [],
   "source": [
    "url = \"http://archive.ics.uci.edu/ml/machine-learning-databases/iris/iris.data\"\n",
    "# load dataset into Pandas DataFrame\n",
    "df = pd.read_csv(url, names=['sepal length','sepal width','petal length','petal width','target'])"
   ]
  },
  {
   "cell_type": "code",
   "execution_count": 13,
   "metadata": {},
   "outputs": [
    {
     "data": {
      "text/html": [
       "<div>\n",
       "<style scoped>\n",
       "    .dataframe tbody tr th:only-of-type {\n",
       "        vertical-align: middle;\n",
       "    }\n",
       "\n",
       "    .dataframe tbody tr th {\n",
       "        vertical-align: top;\n",
       "    }\n",
       "\n",
       "    .dataframe thead th {\n",
       "        text-align: right;\n",
       "    }\n",
       "</style>\n",
       "<table border=\"1\" class=\"dataframe\">\n",
       "  <thead>\n",
       "    <tr style=\"text-align: right;\">\n",
       "      <th></th>\n",
       "      <th>sepal length</th>\n",
       "      <th>sepal width</th>\n",
       "      <th>petal length</th>\n",
       "      <th>petal width</th>\n",
       "      <th>target</th>\n",
       "    </tr>\n",
       "  </thead>\n",
       "  <tbody>\n",
       "    <tr>\n",
       "      <th>0</th>\n",
       "      <td>5.1</td>\n",
       "      <td>3.5</td>\n",
       "      <td>1.4</td>\n",
       "      <td>0.2</td>\n",
       "      <td>Iris-setosa</td>\n",
       "    </tr>\n",
       "    <tr>\n",
       "      <th>1</th>\n",
       "      <td>4.9</td>\n",
       "      <td>3.0</td>\n",
       "      <td>1.4</td>\n",
       "      <td>0.2</td>\n",
       "      <td>Iris-setosa</td>\n",
       "    </tr>\n",
       "    <tr>\n",
       "      <th>2</th>\n",
       "      <td>4.7</td>\n",
       "      <td>3.2</td>\n",
       "      <td>1.3</td>\n",
       "      <td>0.2</td>\n",
       "      <td>Iris-setosa</td>\n",
       "    </tr>\n",
       "    <tr>\n",
       "      <th>3</th>\n",
       "      <td>4.6</td>\n",
       "      <td>3.1</td>\n",
       "      <td>1.5</td>\n",
       "      <td>0.2</td>\n",
       "      <td>Iris-setosa</td>\n",
       "    </tr>\n",
       "    <tr>\n",
       "      <th>4</th>\n",
       "      <td>5.0</td>\n",
       "      <td>3.6</td>\n",
       "      <td>1.4</td>\n",
       "      <td>0.2</td>\n",
       "      <td>Iris-setosa</td>\n",
       "    </tr>\n",
       "    <tr>\n",
       "      <th>...</th>\n",
       "      <td>...</td>\n",
       "      <td>...</td>\n",
       "      <td>...</td>\n",
       "      <td>...</td>\n",
       "      <td>...</td>\n",
       "    </tr>\n",
       "    <tr>\n",
       "      <th>145</th>\n",
       "      <td>6.7</td>\n",
       "      <td>3.0</td>\n",
       "      <td>5.2</td>\n",
       "      <td>2.3</td>\n",
       "      <td>Iris-virginica</td>\n",
       "    </tr>\n",
       "    <tr>\n",
       "      <th>146</th>\n",
       "      <td>6.3</td>\n",
       "      <td>2.5</td>\n",
       "      <td>5.0</td>\n",
       "      <td>1.9</td>\n",
       "      <td>Iris-virginica</td>\n",
       "    </tr>\n",
       "    <tr>\n",
       "      <th>147</th>\n",
       "      <td>6.5</td>\n",
       "      <td>3.0</td>\n",
       "      <td>5.2</td>\n",
       "      <td>2.0</td>\n",
       "      <td>Iris-virginica</td>\n",
       "    </tr>\n",
       "    <tr>\n",
       "      <th>148</th>\n",
       "      <td>6.2</td>\n",
       "      <td>3.4</td>\n",
       "      <td>5.4</td>\n",
       "      <td>2.3</td>\n",
       "      <td>Iris-virginica</td>\n",
       "    </tr>\n",
       "    <tr>\n",
       "      <th>149</th>\n",
       "      <td>5.9</td>\n",
       "      <td>3.0</td>\n",
       "      <td>5.1</td>\n",
       "      <td>1.8</td>\n",
       "      <td>Iris-virginica</td>\n",
       "    </tr>\n",
       "  </tbody>\n",
       "</table>\n",
       "<p>150 rows × 5 columns</p>\n",
       "</div>"
      ],
      "text/plain": [
       "     sepal length  sepal width  petal length  petal width          target\n",
       "0             5.1          3.5           1.4          0.2     Iris-setosa\n",
       "1             4.9          3.0           1.4          0.2     Iris-setosa\n",
       "2             4.7          3.2           1.3          0.2     Iris-setosa\n",
       "3             4.6          3.1           1.5          0.2     Iris-setosa\n",
       "4             5.0          3.6           1.4          0.2     Iris-setosa\n",
       "..            ...          ...           ...          ...             ...\n",
       "145           6.7          3.0           5.2          2.3  Iris-virginica\n",
       "146           6.3          2.5           5.0          1.9  Iris-virginica\n",
       "147           6.5          3.0           5.2          2.0  Iris-virginica\n",
       "148           6.2          3.4           5.4          2.3  Iris-virginica\n",
       "149           5.9          3.0           5.1          1.8  Iris-virginica\n",
       "\n",
       "[150 rows x 5 columns]"
      ]
     },
     "execution_count": 13,
     "metadata": {},
     "output_type": "execute_result"
    }
   ],
   "source": [
    "df"
   ]
  },
  {
   "cell_type": "markdown",
   "metadata": {},
   "source": [
    "Przed zastosowaniem PCA należy przeskalować zbiór danych. W tym celu użyjemy StandardScaler"
   ]
  },
  {
   "cell_type": "code",
   "execution_count": 14,
   "metadata": {},
   "outputs": [],
   "source": [
    "from sklearn.preprocessing import StandardScaler\n",
    "features = ['sepal length', 'sepal width', 'petal length', 'petal width']\n",
    "# Separating out the features\n",
    "x = df.loc[:, features].values\n",
    "# Separating out the target\n",
    "y = df.loc[:,['target']].values\n",
    "# Standardizing the features\n",
    "x = StandardScaler().fit_transform(x)"
   ]
  },
  {
   "cell_type": "markdown",
   "metadata": {},
   "source": [
    "Oryginalne dane mają 4 kolumny (sepal length, sepal width, petal length i petal width). Poniższy kod wyświetla oryginalne dane, które są zamienione z 4-wymiarowych na 2-wymiarowe. "
   ]
  },
  {
   "cell_type": "code",
   "execution_count": 15,
   "metadata": {},
   "outputs": [
    {
     "data": {
      "text/html": [
       "<div>\n",
       "<style scoped>\n",
       "    .dataframe tbody tr th:only-of-type {\n",
       "        vertical-align: middle;\n",
       "    }\n",
       "\n",
       "    .dataframe tbody tr th {\n",
       "        vertical-align: top;\n",
       "    }\n",
       "\n",
       "    .dataframe thead th {\n",
       "        text-align: right;\n",
       "    }\n",
       "</style>\n",
       "<table border=\"1\" class=\"dataframe\">\n",
       "  <thead>\n",
       "    <tr style=\"text-align: right;\">\n",
       "      <th></th>\n",
       "      <th>Główny składnik 1</th>\n",
       "      <th>Główny składnik 2</th>\n",
       "    </tr>\n",
       "  </thead>\n",
       "  <tbody>\n",
       "    <tr>\n",
       "      <th>0</th>\n",
       "      <td>-2.264542</td>\n",
       "      <td>0.505704</td>\n",
       "    </tr>\n",
       "    <tr>\n",
       "      <th>1</th>\n",
       "      <td>-2.086426</td>\n",
       "      <td>-0.655405</td>\n",
       "    </tr>\n",
       "    <tr>\n",
       "      <th>2</th>\n",
       "      <td>-2.367950</td>\n",
       "      <td>-0.318477</td>\n",
       "    </tr>\n",
       "    <tr>\n",
       "      <th>3</th>\n",
       "      <td>-2.304197</td>\n",
       "      <td>-0.575368</td>\n",
       "    </tr>\n",
       "    <tr>\n",
       "      <th>4</th>\n",
       "      <td>-2.388777</td>\n",
       "      <td>0.674767</td>\n",
       "    </tr>\n",
       "    <tr>\n",
       "      <th>...</th>\n",
       "      <td>...</td>\n",
       "      <td>...</td>\n",
       "    </tr>\n",
       "    <tr>\n",
       "      <th>145</th>\n",
       "      <td>1.870522</td>\n",
       "      <td>0.382822</td>\n",
       "    </tr>\n",
       "    <tr>\n",
       "      <th>146</th>\n",
       "      <td>1.558492</td>\n",
       "      <td>-0.905314</td>\n",
       "    </tr>\n",
       "    <tr>\n",
       "      <th>147</th>\n",
       "      <td>1.520845</td>\n",
       "      <td>0.266795</td>\n",
       "    </tr>\n",
       "    <tr>\n",
       "      <th>148</th>\n",
       "      <td>1.376391</td>\n",
       "      <td>1.016362</td>\n",
       "    </tr>\n",
       "    <tr>\n",
       "      <th>149</th>\n",
       "      <td>0.959299</td>\n",
       "      <td>-0.022284</td>\n",
       "    </tr>\n",
       "  </tbody>\n",
       "</table>\n",
       "<p>150 rows × 2 columns</p>\n",
       "</div>"
      ],
      "text/plain": [
       "     Główny składnik 1  Główny składnik 2\n",
       "0            -2.264542           0.505704\n",
       "1            -2.086426          -0.655405\n",
       "2            -2.367950          -0.318477\n",
       "3            -2.304197          -0.575368\n",
       "4            -2.388777           0.674767\n",
       "..                 ...                ...\n",
       "145           1.870522           0.382822\n",
       "146           1.558492          -0.905314\n",
       "147           1.520845           0.266795\n",
       "148           1.376391           1.016362\n",
       "149           0.959299          -0.022284\n",
       "\n",
       "[150 rows x 2 columns]"
      ]
     },
     "execution_count": 15,
     "metadata": {},
     "output_type": "execute_result"
    }
   ],
   "source": [
    "from sklearn.decomposition import PCA\n",
    "pca = PCA(n_components=2)\n",
    "principalComponents = pca.fit_transform(x)\n",
    "principalDf = pd.DataFrame(data = principalComponents, columns = ['Główny składnik 1', 'Główny składnik 2'])\n",
    "principalDf"
   ]
  },
  {
   "cell_type": "markdown",
   "metadata": {},
   "source": [
    "finalDf jest ostatecznym DataFrame przed stworzeniem wykresu."
   ]
  },
  {
   "cell_type": "code",
   "execution_count": 16,
   "metadata": {},
   "outputs": [
    {
     "data": {
      "text/html": [
       "<div>\n",
       "<style scoped>\n",
       "    .dataframe tbody tr th:only-of-type {\n",
       "        vertical-align: middle;\n",
       "    }\n",
       "\n",
       "    .dataframe tbody tr th {\n",
       "        vertical-align: top;\n",
       "    }\n",
       "\n",
       "    .dataframe thead th {\n",
       "        text-align: right;\n",
       "    }\n",
       "</style>\n",
       "<table border=\"1\" class=\"dataframe\">\n",
       "  <thead>\n",
       "    <tr style=\"text-align: right;\">\n",
       "      <th></th>\n",
       "      <th>Główny składnik 1</th>\n",
       "      <th>Główny składnik 2</th>\n",
       "      <th>target</th>\n",
       "    </tr>\n",
       "  </thead>\n",
       "  <tbody>\n",
       "    <tr>\n",
       "      <th>0</th>\n",
       "      <td>-2.264542</td>\n",
       "      <td>0.505704</td>\n",
       "      <td>Iris-setosa</td>\n",
       "    </tr>\n",
       "    <tr>\n",
       "      <th>1</th>\n",
       "      <td>-2.086426</td>\n",
       "      <td>-0.655405</td>\n",
       "      <td>Iris-setosa</td>\n",
       "    </tr>\n",
       "    <tr>\n",
       "      <th>2</th>\n",
       "      <td>-2.367950</td>\n",
       "      <td>-0.318477</td>\n",
       "      <td>Iris-setosa</td>\n",
       "    </tr>\n",
       "    <tr>\n",
       "      <th>3</th>\n",
       "      <td>-2.304197</td>\n",
       "      <td>-0.575368</td>\n",
       "      <td>Iris-setosa</td>\n",
       "    </tr>\n",
       "    <tr>\n",
       "      <th>4</th>\n",
       "      <td>-2.388777</td>\n",
       "      <td>0.674767</td>\n",
       "      <td>Iris-setosa</td>\n",
       "    </tr>\n",
       "    <tr>\n",
       "      <th>...</th>\n",
       "      <td>...</td>\n",
       "      <td>...</td>\n",
       "      <td>...</td>\n",
       "    </tr>\n",
       "    <tr>\n",
       "      <th>145</th>\n",
       "      <td>1.870522</td>\n",
       "      <td>0.382822</td>\n",
       "      <td>Iris-virginica</td>\n",
       "    </tr>\n",
       "    <tr>\n",
       "      <th>146</th>\n",
       "      <td>1.558492</td>\n",
       "      <td>-0.905314</td>\n",
       "      <td>Iris-virginica</td>\n",
       "    </tr>\n",
       "    <tr>\n",
       "      <th>147</th>\n",
       "      <td>1.520845</td>\n",
       "      <td>0.266795</td>\n",
       "      <td>Iris-virginica</td>\n",
       "    </tr>\n",
       "    <tr>\n",
       "      <th>148</th>\n",
       "      <td>1.376391</td>\n",
       "      <td>1.016362</td>\n",
       "      <td>Iris-virginica</td>\n",
       "    </tr>\n",
       "    <tr>\n",
       "      <th>149</th>\n",
       "      <td>0.959299</td>\n",
       "      <td>-0.022284</td>\n",
       "      <td>Iris-virginica</td>\n",
       "    </tr>\n",
       "  </tbody>\n",
       "</table>\n",
       "<p>150 rows × 3 columns</p>\n",
       "</div>"
      ],
      "text/plain": [
       "     Główny składnik 1  Główny składnik 2          target\n",
       "0            -2.264542           0.505704     Iris-setosa\n",
       "1            -2.086426          -0.655405     Iris-setosa\n",
       "2            -2.367950          -0.318477     Iris-setosa\n",
       "3            -2.304197          -0.575368     Iris-setosa\n",
       "4            -2.388777           0.674767     Iris-setosa\n",
       "..                 ...                ...             ...\n",
       "145           1.870522           0.382822  Iris-virginica\n",
       "146           1.558492          -0.905314  Iris-virginica\n",
       "147           1.520845           0.266795  Iris-virginica\n",
       "148           1.376391           1.016362  Iris-virginica\n",
       "149           0.959299          -0.022284  Iris-virginica\n",
       "\n",
       "[150 rows x 3 columns]"
      ]
     },
     "execution_count": 16,
     "metadata": {},
     "output_type": "execute_result"
    }
   ],
   "source": [
    "finalDf = pd.concat([principalDf, df[['target']]], axis = 1)\n",
    "finalDf"
   ]
  },
  {
   "cell_type": "markdown",
   "metadata": {},
   "source": [
    "# 5. Porównanie wyników klasyfikatora knn\n",
    "W tym punkcie porównamy dokładność klasyfikatora knn dla różnych wartości parametru k na oryginalnych cechach oraz na cechach wybranych przez PCA. Wykorzystamy do tego zbiór danych związanych z diagnozą raka piersi z Wisconsin."
   ]
  },
  {
   "cell_type": "code",
   "execution_count": 17,
   "metadata": {},
   "outputs": [],
   "source": [
    "wdbc = fetch_openml(\"wdbc\", data_home=\"./wdbc\", cache=True)"
   ]
  },
  {
   "cell_type": "markdown",
   "metadata": {},
   "source": [
    "Tak, jak poprzednio, stosowanie algorytmu PCA wymaga normalizacji danych"
   ]
  },
  {
   "cell_type": "code",
   "execution_count": 18,
   "metadata": {},
   "outputs": [],
   "source": [
    "scaler = StandardScaler()\n",
    "scaled_data = scaler.fit_transform(wdbc.data)\n",
    "train_x, test_x, train_y, test_y = train_test_split(scaled_data, wdbc.target, test_size = 0.2)\n",
    "scaler.fit(train_x)\n",
    "train_x = scaler.transform(train_x)\n",
    "test_x = scaler.transform(test_x)\n"
   ]
  },
  {
   "cell_type": "markdown",
   "metadata": {},
   "source": [
    "Najpierw sprawdzamy dokładność dla \"starych\" cech:"
   ]
  },
  {
   "cell_type": "code",
   "execution_count": 19,
   "metadata": {},
   "outputs": [
    {
     "name": "stdout",
     "output_type": "stream",
     "text": [
      "Prediction accuracy with k = 1 and m = 2 : 0.8596491228070176\n"
     ]
    }
   ],
   "source": [
    "def z5_test(neighbors, columns):\n",
    "    knn = KNeighborsClassifier(n_neighbors = neighbors)\n",
    "    knn.fit(train_x[:, :columns], train_y)\n",
    "\n",
    "    pred_y = knn.predict(test_x[:, :columns])\n",
    "    print(\"Prediction accuracy with k =\", neighbors, \"and m =\", columns, \":\", accuracy_score(test_y, pred_y))\n",
    "\n",
    "z5_test(1, 2)"
   ]
  },
  {
   "cell_type": "markdown",
   "metadata": {},
   "source": [
    "By wykorzystać transformację PCA wystarczy użyć klasy `PCA` z pakietu `scikit-learn`."
   ]
  },
  {
   "cell_type": "code",
   "execution_count": 20,
   "metadata": {},
   "outputs": [
    {
     "name": "stdout",
     "output_type": "stream",
     "text": [
      "Prediction accuracy with k = 1 and m = 2 : 0.9122807017543859\n"
     ]
    }
   ],
   "source": [
    "pca = PCA()\n",
    "pca.fit(train_x)\n",
    "\n",
    "def z5_test(neighbors, columns):\n",
    "    knn = KNeighborsClassifier(n_neighbors = neighbors)\n",
    "    knn.fit(pca.transform(train_x)[:, :columns], train_y)\n",
    "\n",
    "    pred_y = knn.predict(pca.transform(test_x)[:, :columns])\n",
    "    print(\"Prediction accuracy with k =\", neighbors, \"and m =\", columns, \":\", accuracy_score(test_y, pred_y))\n",
    "\n",
    "z5_test(1, 2)"
   ]
  },
  {
   "cell_type": "markdown",
   "metadata": {},
   "source": [
    "Jak widać zastosowanie PCA stanowczo poprawia jakość klasyfikatora. Korzystając z powyższych komórek wypełnij poniższe tabele:\n",
    "\n",
    "Dokładność dla \"starych\" danych wejściowych:\n",
    "\n",
    "| k     | m = N | m = 5 | m = 2 |\n",
    "|-------|-------|-------|-------|\n",
    "| 1 |       |       | 85.96%      |\n",
    "| 3 |       |       |       |\n",
    "| 5 |       |       |       |\n",
    "\n",
    "Dokładność dla \"nowych\" danych wejściowych:\n",
    "\n",
    "| k     | m = N | m = 5 | m = 2 |\n",
    "|-------|-------|-------|-------|\n",
    "| 1 |       |       | 93.86%       |\n",
    "| 3 |       |       |       |\n",
    "| 5 |       |       |       |"
   ]
  },
  {
   "cell_type": "markdown",
   "metadata": {},
   "source": [
    "# 6. Wizualizacja zbioru"
   ]
  },
  {
   "cell_type": "markdown",
   "metadata": {},
   "source": [
    "Algorytm PCA pozwala również na łatwą wizualizację danych. Dzięki redukcji wymiarów wielowymiarowy zbiór danych\n",
    "można przedstawić na dwu lub trójwymiarowym rysunku, tracąc przy tym możliwie najmniej informacji.\n",
    "\n",
    "Na poniższym grafie przedstawiamy dwie różne klasy ze sbioru wejściowego kolorami zielonym i niebieskim.\n",
    "Kolorem czerwonym zaznaczone zostały dane źle zaklasyfikowane."
   ]
  },
  {
   "cell_type": "code",
   "execution_count": 21,
   "metadata": {},
   "outputs": [
    {
     "data": {
      "text/plain": [
       "<matplotlib.collections.PathCollection at 0x1e332476df0>"
      ]
     },
     "execution_count": 21,
     "metadata": {},
     "output_type": "execute_result"
    },
    {
     "data": {
      "image/png": "[encoded data removed]",
      "text/plain": [
       "<Figure size 432x288 with 1 Axes>"
      ]
     },
     "metadata": {
      "needs_background": "light"
     },
     "output_type": "display_data"
    }
   ],
   "source": [
    "reduced_x = pca.transform(train_x)[:, :2]\n",
    "benign_i = []\n",
    "malign_i = []\n",
    "for i in range(len(reduced_x)):\n",
    "    if int(train_y[i]) == 1:\n",
    "        benign_i.append(i)\n",
    "    else:\n",
    "        malign_i.append(i)\n",
    "\n",
    "plt.scatter(reduced_x[benign_i, 0], reduced_x[benign_i, 1], color = \"green\")\n",
    "plt.scatter(reduced_x[malign_i, 0], reduced_x[malign_i, 1], color = \"blue\")\n",
    "\n",
    "knn = KNeighborsClassifier(n_neighbors = 5)\n",
    "knn.fit(reduced_x, train_y)\n",
    "red_test_x = pca.transform(test_x)[:, :2]\n",
    "pred_y = knn.predict(red_test_x)\n",
    "\n",
    "wrong_i = []\n",
    "\n",
    "for i in range(len(pred_y)):\n",
    "    if pred_y[i] != test_y[i]:\n",
    "        wrong_i.append(i)\n",
    "\n",
    "plt.scatter(red_test_x[wrong_i, 0], red_test_x[wrong_i, 1], color = \"red\")\n",
    "    "
   ]
  },
  {
   "cell_type": "markdown",
   "metadata": {},
   "source": [
    "Na wykresie widać, że nawet w tylko dwóch wymiarach klasy są dosyć dobrze rozdzielone.\n",
    "Również zgodnie z przewidywaniami źle zaklasyfikowane przykłady (czerwone kropki) leżą blisko granicy dwóch klas."
   ]
  },
  {
   "cell_type": "markdown",
   "metadata": {},
   "source": [
    "W wielu analizach statystycznych przydatna jest wiedza o tzw. Outlierach, to znaczy przypadkach oddalonych od innych, które mogą oznaczać błąd pomiaru lub wyjątkowo żadkie warunki. \n",
    "\n",
    "W pakiecie scikit istnieje kilka algorytmów do ich znajdywania:"
   ]
  },
  {
   "cell_type": "code",
   "execution_count": 22,
   "metadata": {},
   "outputs": [
    {
     "data": {
      "text/plain": [
       "<matplotlib.collections.PathCollection at 0x1e3324dd6d0>"
      ]
     },
     "execution_count": 22,
     "metadata": {},
     "output_type": "execute_result"
    },
    {
     "data": {
      "image/png": "[encoded data removed]",
      "text/plain": [
       "<Figure size 432x288 with 1 Axes>"
      ]
     },
     "metadata": {
      "needs_background": "light"
     },
     "output_type": "display_data"
    }
   ],
   "source": [
    "from sklearn.neighbors import LocalOutlierFactor\n",
    "\n",
    "estimator = LocalOutlierFactor()\n",
    "outliers = estimator.fit_predict(reduced_x)\n",
    "\n",
    "inlier_i = []\n",
    "outlier_i = []\n",
    "\n",
    "for i in range(len(reduced_x)):\n",
    "    if int(outliers[i]) == 1:\n",
    "        inlier_i.append(i)\n",
    "    else:\n",
    "        outlier_i.append(i)\n",
    "\n",
    "plt.scatter(reduced_x[inlier_i, 0], reduced_x[inlier_i, 1], color = \"green\")\n",
    "plt.scatter(reduced_x[outlier_i, 0], reduced_x[outlier_i, 1], color = \"red\")"
   ]
  },
  {
   "cell_type": "markdown",
   "metadata": {},
   "source": [
    "Na zielono zaznaczone są \"normalne\" dane (tzw. Inliers) a na czerwono punkty, które zostały wykryte jako wyjątkowe (Outliers).\n",
    "\n",
    "Jeśli chcesz, możesz wypróbować inne algorytmy wykrywania outlierów, do tego celu zmień `neighbors.LocalOutlierFactor` na jeden z: `ensemble.IsolationForest`, `svm.OneClassSVM` lub `covariance.EllipticEnvelope`"
   ]
  },
  {
   "cell_type": "markdown",
   "metadata": {},
   "source": [
    "## 7. Zadanie do wykonania.\n",
    "Celem zadania wykonanego w ramach dzisiejszych laboratoriów będzie praktyczne zaobserwowanie wpływu selekcji cech na wynik klasyfikacji k-nn, jak również porównanie efektów augmentacji danych i inżynierii cech. **W tym celu posłużymy się zbiorami danych MNIST, NMIST oraz CIFAR-10.**\n",
    "\n",
    "Poniżej przytoczyliśmy kolejne polecenia wraz z przykładami dla podzbioru MNIST. Liczbę przykładów dobieramy w ten sposób, by była nie większa niż dwukrotność liczby cech (w naszym przypadku: pikseli)."
   ]
  },
  {
   "cell_type": "code",
   "execution_count": 23,
   "metadata": {},
   "outputs": [],
   "source": [
    "mnist = fetch_openml(\"mnist_784\", data_home=\"./mnist_784\", cache=True)"
   ]
  },
  {
   "cell_type": "code",
   "execution_count": 24,
   "metadata": {},
   "outputs": [],
   "source": [
    "samples = 1500 # < 2 * 28 * 28\n",
    "\n",
    "mnist_data = mnist.data[:samples]\n",
    "mnist_target = mnist.target[:samples]"
   ]
  },
  {
   "cell_type": "code",
   "execution_count": 25,
   "metadata": {},
   "outputs": [],
   "source": [
    "mnist_train_data, mnist_test_data, mnist_train_labels, mnist_test_labels = train_test_split(mnist_data, mnist_target, train_size=0.75, random_state=0)"
   ]
  },
  {
   "cell_type": "markdown",
   "metadata": {},
   "source": [
    "### 7.1. Znalezienie najmniej informatywnych cech.\n",
    "Zaczniemy od znalezienia `m` najmniej informatywnych cech badanych danych, a więc pikseli, które w najmniejszym stopniu wpływają na klasyfikację obrazków ze zbioru. Wyznaczone cechy zwizualizujemy w formie rysunku odpowiadającego wymiarem klasyfikowanym obrazom."
   ]
  },
  {
   "cell_type": "code",
   "execution_count": 26,
   "metadata": {},
   "outputs": [],
   "source": [
    "k = 3                            # Liczba sąsiadów\n",
    "m = 400                          # Liczba najmniej informatywnych cech, jakie chcemy znaleźć\n",
    "total_features = 28 * 28"
   ]
  },
  {
   "cell_type": "code",
   "execution_count": 27,
   "metadata": {},
   "outputs": [
    {
     "data": {
      "text/plain": [
       "<matplotlib.image.AxesImage at 0x1e332529520>"
      ]
     },
     "execution_count": 27,
     "metadata": {},
     "output_type": "execute_result"
    },
    {
     "data": {
      "image/png": "[encoded data removed]",
      "text/plain": [
       "<Figure size 432x288 with 1 Axes>"
      ]
     },
     "metadata": {
      "needs_background": "light"
     },
     "output_type": "display_data"
    }
   ],
   "source": [
    "feature_selector = SelectKBest(chi2, k=total_features-m)\n",
    "feature_selector.fit(mnist_train_data, mnist_train_labels)\n",
    "selection = feature_selector.get_support()\n",
    "\n",
    "selection_preview = selection\n",
    "selection_preview = np.array(selection_preview).reshape(28, 28)\n",
    "plt.imshow(selection_preview)"
   ]
  },
  {
   "cell_type": "markdown",
   "metadata": {},
   "source": [
    "### 7.2. Porównanie wyników klasyfikacji k-NN.\n",
    "Porównamy wyniki klasyfikacji k-NN przeprowadzonej dla pełnego zbioru oraz dla zbioru po usunięciu `m` najmniej informatywnych cech."
   ]
  },
  {
   "cell_type": "code",
   "execution_count": 28,
   "metadata": {},
   "outputs": [
    {
     "name": "stdout",
     "output_type": "stream",
     "text": [
      "Dla pełnego zbioru miara dokładności wynosi: 0.8746666666666667\n"
     ]
    }
   ],
   "source": [
    "knn_all = KNeighborsClassifier(n_neighbors = k)\n",
    "knn_all.fit(mnist_train_data, mnist_train_labels)\n",
    "prediction1 = knn_all.predict(mnist_test_data)\n",
    "accuracy1 = accuracy_score(prediction1, mnist_test_labels)\n",
    "print(\"Dla pełnego zbioru miara dokładności wynosi:\", accuracy1)"
   ]
  },
  {
   "cell_type": "code",
   "execution_count": 29,
   "metadata": {},
   "outputs": [
    {
     "name": "stdout",
     "output_type": "stream",
     "text": [
      "Dla zbioru po odrzuceniu 400 najmniej informatywnych cech miara dokładności wynosi: 0.8853333333333333\n"
     ]
    }
   ],
   "source": [
    "mnist_train_reduced = feature_selector.transform(mnist_train_data)\n",
    "mnist_test_reduced = feature_selector.transform(mnist_test_data)\n",
    "\n",
    "knn_some = KNeighborsClassifier(n_neighbors = k)\n",
    "knn_some.fit(mnist_train_reduced, mnist_train_labels)\n",
    "prediction2 = knn_some.predict(mnist_test_reduced)\n",
    "accuracy2 = accuracy_score(prediction2, mnist_test_labels)\n",
    "print(\"Dla zbioru po odrzuceniu\", m, \"najmniej informatywnych cech miara dokładności wynosi:\", accuracy2)"
   ]
  },
  {
   "cell_type": "markdown",
   "metadata": {},
   "source": [
    "### 7.3. Transformacja przy użyciu PCA.\n",
    "Przy pomocy analizy głównych składowych transformujemy dane z wektorów N-wymiarowych w N-wymiarowe."
   ]
  },
  {
   "cell_type": "code",
   "execution_count": 30,
   "metadata": {},
   "outputs": [],
   "source": [
    "# Przed zastosowaniem PCA musimy zadbać o normalizację danych.\n",
    "scaler = StandardScaler()\n",
    "scaler.fit(mnist_train_data)\n",
    "\n",
    "mnist_train_data = scaler.transform(mnist_train_data)\n",
    "mnist_test_data = scaler.transform(mnist_test_data)"
   ]
  },
  {
   "cell_type": "code",
   "execution_count": 31,
   "metadata": {},
   "outputs": [],
   "source": [
    "pca = PCA() # Nie ograniczamy liczby składowych.\n",
    "pca.fit(mnist_train_data)\n",
    "\n",
    "transformed_train_data = pca.transform(mnist_train_data)\n",
    "transformed_test_data = pca.transform(mnist_test_data)"
   ]
  },
  {
   "cell_type": "markdown",
   "metadata": {},
   "source": [
    "Dokonujemy wizualizacji wektorów własnych odpowiadających największym wartościom własnym."
   ]
  },
  {
   "cell_type": "code",
   "execution_count": 32,
   "metadata": {},
   "outputs": [
    {
     "data": {
      "text/plain": [
       "<matplotlib.image.AxesImage at 0x1e3325c7400>"
      ]
     },
     "execution_count": 32,
     "metadata": {},
     "output_type": "execute_result"
    },
    {
     "data": {
      "image/png": "[encoded data removed]",
      "text/plain": [
       "<Figure size 432x288 with 1 Axes>"
      ]
     },
     "metadata": {
      "needs_background": "light"
     },
     "output_type": "display_data"
    }
   ],
   "source": [
    "plt.imshow(np.array(transformed_train_data[0]).reshape(28, 28))"
   ]
  },
  {
   "cell_type": "markdown",
   "metadata": {},
   "source": [
    "Sprawdzamy, czy poprawił się wynik klasyfikacji. Dlaczego?"
   ]
  },
  {
   "cell_type": "code",
   "execution_count": 33,
   "metadata": {},
   "outputs": [
    {
     "name": "stdout",
     "output_type": "stream",
     "text": [
      "Miara dokładności wynosi: 0.8133333333333334\n"
     ]
    }
   ],
   "source": [
    "knn = KNeighborsClassifier(n_neighbors = k)\n",
    "knn.fit(mnist_train_data, mnist_train_labels)\n",
    "prediction = knn.predict(mnist_test_data)\n",
    "accuracy = accuracy_score(prediction, mnist_test_labels)\n",
    "print(\"Miara dokładności wynosi:\", accuracy)"
   ]
  },
  {
   "cell_type": "code",
   "execution_count": 34,
   "metadata": {},
   "outputs": [
    {
     "name": "stdout",
     "output_type": "stream",
     "text": [
      "Miara dokładności wynosi: 0.8133333333333334\n"
     ]
    }
   ],
   "source": [
    "knn = KNeighborsClassifier(n_neighbors = k)\n",
    "knn.fit(transformed_train_data, mnist_train_labels)\n",
    "prediction = knn.predict(transformed_test_data)\n",
    "accuracy = accuracy_score(prediction, mnist_test_labels)\n",
    "print(\"Miara dokładności wynosi:\", accuracy)"
   ]
  },
  {
   "cell_type": "markdown",
   "metadata": {},
   "source": [
    "Dokonajmy wizualizacji 2D przy pomocy PCA."
   ]
  },
  {
   "cell_type": "code",
   "execution_count": 35,
   "metadata": {},
   "outputs": [],
   "source": [
    "colors = ['#0D3C55', '#1395BA', '#5CA793', '#A2B86C', '#EBC844', '#ECAA38', '#EF8B2C', '#F16C20', '#D94E1F', '#C02E1D']"
   ]
  },
  {
   "cell_type": "code",
   "execution_count": 36,
   "metadata": {},
   "outputs": [
    {
     "data": {
      "image/png": "[encoded data removed]",
      "text/plain": [
       "<Figure size 432x288 with 1 Axes>"
      ]
     },
     "metadata": {
      "needs_background": "light"
     },
     "output_type": "display_data"
    }
   ],
   "source": [
    "visualized_data = transformed_train_data[:, :2]\n",
    "visualized_labels = mnist_train_labels\n",
    "\n",
    "cluster_count = len(set(mnist_train_labels))\n",
    "clusters = [[] for i in range(cluster_count)]\n",
    "\n",
    "for i in range(len(visualized_data)):\n",
    "    cluster_id = int(visualized_labels[i])\n",
    "    clusters[cluster_id].append(i)\n",
    "    \n",
    "for cluster_id in range(len(clusters)):\n",
    "    cluster = clusters[cluster_id]\n",
    "    plt.scatter(visualized_data[cluster, 0], visualized_data[cluster, 1], color=colors[cluster_id])"
   ]
  },
  {
   "cell_type": "markdown",
   "metadata": {},
   "source": [
    "### 7.4. Obserwacja efektów selekcji cech z użyciem PCA.\n",
    "Usuń `m` najmniej informatywnych cech PCA (gdzie m jest duże, np. rzędu 500 dla 784 cech). Porównaj wynik klasyfikacji."
   ]
  },
  {
   "cell_type": "code",
   "execution_count": 37,
   "metadata": {},
   "outputs": [],
   "source": [
    "m = 500\n",
    "total_features = 28 * 28\n",
    "left = total_features - m"
   ]
  },
  {
   "cell_type": "code",
   "execution_count": 38,
   "metadata": {},
   "outputs": [
    {
     "name": "stdout",
     "output_type": "stream",
     "text": [
      "Miara dokładności wynosi: 0.816\n"
     ]
    }
   ],
   "source": [
    "reduced_train_data = pca.transform(mnist_train_data)[:, :left]\n",
    "reduced_test_data = pca.transform(mnist_test_data)[:, :left]\n",
    "\n",
    "knn = KNeighborsClassifier(n_neighbors = k)\n",
    "knn.fit(reduced_train_data, mnist_train_labels)\n",
    "prediction = knn.predict(reduced_test_data)\n",
    "accuracy = accuracy_score(prediction, mnist_test_labels)\n",
    "print(\"Miara dokładności wynosi:\", accuracy)"
   ]
  },
  {
   "cell_type": "markdown",
   "metadata": {},
   "source": [
    "Teraz pozostaw `m` najlepszych cech PCA (gdzie `m` jest małe, rzędu 10-20). Porównaj wynik klasyfikacji."
   ]
  },
  {
   "cell_type": "code",
   "execution_count": 39,
   "metadata": {},
   "outputs": [],
   "source": [
    "m = 15"
   ]
  },
  {
   "cell_type": "code",
   "execution_count": 40,
   "metadata": {},
   "outputs": [
    {
     "name": "stdout",
     "output_type": "stream",
     "text": [
      "Miara dokładności wynosi: 0.856\n"
     ]
    }
   ],
   "source": [
    "reduced_train_data = pca.transform(mnist_train_data)[:, :m]\n",
    "reduced_test_data = pca.transform(mnist_test_data)[:, :m]\n",
    "\n",
    "knn = KNeighborsClassifier(n_neighbors = k)\n",
    "knn.fit(reduced_train_data, mnist_train_labels)\n",
    "prediction = knn.predict(reduced_test_data)\n",
    "accuracy = accuracy_score(prediction, mnist_test_labels)\n",
    "print(\"Miara dokładności wynosi:\", accuracy)"
   ]
  },
  {
   "cell_type": "markdown",
   "metadata": {},
   "source": [
    "### 7.5. Porównanie efektów augmentacji i inżynierii cech.\n",
    "Dokonaj klasyfikacji z użyciem PCA."
   ]
  },
  {
   "cell_type": "code",
   "execution_count": 41,
   "metadata": {},
   "outputs": [
    {
     "name": "stdout",
     "output_type": "stream",
     "text": [
      "Miara dokładności wynosi: 0.856\n"
     ]
    }
   ],
   "source": [
    "m = 15\n",
    "reduced_train_data = pca.transform(mnist_train_data)[:, :m]\n",
    "reduced_test_data = pca.transform(mnist_test_data)[:, :m]\n",
    "\n",
    "knn = KNeighborsClassifier(n_neighbors = k)\n",
    "knn.fit(reduced_train_data, mnist_train_labels)\n",
    "prediction = knn.predict(reduced_test_data)\n",
    "accuracy = accuracy_score(prediction, mnist_test_labels)\n",
    "print(\"Miara dokładności wynosi:\", accuracy)"
   ]
  },
  {
   "cell_type": "markdown",
   "metadata": {},
   "source": [
    "Następnie dokonaj klasyfikacji bez użycia PCA, zwiększając liczbę przykładów z użyciem augmentacji przy użyciu biblioteki `imgaug`."
   ]
  },
  {
   "cell_type": "code",
   "execution_count": 42,
   "metadata": {},
   "outputs": [],
   "source": [
    "blur_effect = iaa.GaussianBlur(sigma=(2.0, 3.0))\n",
    "blurred_images = blur_effect(images=np.reshape(mnist_train_data, (-1, 28, 28)))\n",
    "blurred_data = np.reshape(blurred_images, (-1,28*28))\n",
    "\n",
    "augmented_data = np.concatenate((mnist_train_data, blurred_data))\n",
    "augmented_labels = np.concatenate((mnist_train_labels, mnist_train_labels))"
   ]
  },
  {
   "cell_type": "code",
   "execution_count": 43,
   "metadata": {},
   "outputs": [
    {
     "name": "stdout",
     "output_type": "stream",
     "text": [
      "Miara dokładności wynosi: 0.872\n"
     ]
    }
   ],
   "source": [
    "knn = KNeighborsClassifier(n_neighbors = k)\n",
    "knn.fit(augmented_data, augmented_labels)\n",
    "prediction = knn.predict(mnist_test_data)\n",
    "accuracy = accuracy_score(prediction, mnist_test_labels)\n",
    "print(\"Miara dokładności wynosi:\", accuracy)"
   ]
  },
  {
   "cell_type": "markdown",
   "metadata": {},
   "source": [
    "Porównaj wyniki klasyfikacji w obu przypadkach. Jaki można wysnuć wniosek?"
   ]
  },
  {
   "cell_type": "code",
   "execution_count": null,
   "metadata": {},
   "outputs": [],
   "source": []
  }
 ],
 "metadata": {
  "kernelspec": {
   "display_name": "feature-selection",
   "language": "python",
   "name": "feature-selection"
  },
  "language_info": {
   "codemirror_mode": {
    "name": "ipython",
    "version": 3
   },
   "file_extension": ".py",
   "mimetype": "text/x-python",
   "name": "python",
   "nbconvert_exporter": "python",
   "pygments_lexer": "ipython3",
   "version": "3.8.2"
  },
  "name": "Untitled.ipynb"
 },
 "nbformat": 4,
 "nbformat_minor": 4
}
